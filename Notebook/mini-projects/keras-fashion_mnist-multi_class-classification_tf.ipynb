{
 "cells": [
  {
   "cell_type": "markdown",
   "metadata": {
    "id": "gf3sDlIrDfl6"
   },
   "source": [
    "# Multi-Class Classification"
   ]
  },
  {
   "cell_type": "code",
   "execution_count": 1,
   "metadata": {
    "executionInfo": {
     "elapsed": 5776,
     "status": "ok",
     "timestamp": 1620492223119,
     "user": {
      "displayName": "Gaurav Reddy",
      "photoUrl": "https://lh3.googleusercontent.com/a-/AOh14GiSL7-vyK3M9O2aew1rAxVHgD8h6RoC4uGUerXZL5s=s64",
      "userId": "04927215883267902569"
     },
     "user_tz": -330
    },
    "id": "np1nF94uDkw_"
   },
   "outputs": [],
   "source": [
    "import tensorflow as tf\n",
    "import pandas as pd\n",
    "import numpy as np\n",
    "import matplotlib.pyplot as plt"
   ]
  },
  {
   "cell_type": "code",
   "execution_count": 2,
   "metadata": {
    "colab": {
     "base_uri": "https://localhost:8080/"
    },
    "executionInfo": {
     "elapsed": 5770,
     "status": "ok",
     "timestamp": 1620492223120,
     "user": {
      "displayName": "Gaurav Reddy",
      "photoUrl": "https://lh3.googleusercontent.com/a-/AOh14GiSL7-vyK3M9O2aew1rAxVHgD8h6RoC4uGUerXZL5s=s64",
      "userId": "04927215883267902569"
     },
     "user_tz": -330
    },
    "id": "9mI1M6deD-Hu",
    "outputId": "d260ed26-f171-4bd8-c4d1-877000e856d5"
   },
   "outputs": [
    {
     "name": "stdout",
     "output_type": "stream",
     "text": [
      "Downloading data from https://storage.googleapis.com/tensorflow/tf-keras-datasets/train-labels-idx1-ubyte.gz\n",
      "\u001b[1m29515/29515\u001b[0m \u001b[32m━━━━━━━━━━━━━━━━━━━━\u001b[0m\u001b[37m\u001b[0m \u001b[1m0s\u001b[0m 4us/step\n",
      "Downloading data from https://storage.googleapis.com/tensorflow/tf-keras-datasets/train-images-idx3-ubyte.gz\n",
      "\u001b[1m26421880/26421880\u001b[0m \u001b[32m━━━━━━━━━━━━━━━━━━━━\u001b[0m\u001b[37m\u001b[0m \u001b[1m6s\u001b[0m 0us/step\n",
      "Downloading data from https://storage.googleapis.com/tensorflow/tf-keras-datasets/t10k-labels-idx1-ubyte.gz\n",
      "\u001b[1m5148/5148\u001b[0m \u001b[32m━━━━━━━━━━━━━━━━━━━━\u001b[0m\u001b[37m\u001b[0m \u001b[1m0s\u001b[0m 1us/step\n",
      "Downloading data from https://storage.googleapis.com/tensorflow/tf-keras-datasets/t10k-images-idx3-ubyte.gz\n",
      "\u001b[1m4422102/4422102\u001b[0m \u001b[32m━━━━━━━━━━━━━━━━━━━━\u001b[0m\u001b[37m\u001b[0m \u001b[1m1s\u001b[0m 0us/step\n"
     ]
    }
   ],
   "source": [
    "from tensorflow.keras.datasets import fashion_mnist\n",
    "\n",
    "# The Data is already been sorted to Train and Test Data for us\n",
    "\n",
    "(train_X, train_y), (test_X, test_y) = fashion_mnist.load_data()"
   ]
  },
  {
   "cell_type": "code",
   "execution_count": 3,
   "metadata": {
    "colab": {
     "base_uri": "https://localhost:8080/"
    },
    "executionInfo": {
     "elapsed": 5758,
     "status": "ok",
     "timestamp": 1620492223120,
     "user": {
      "displayName": "Gaurav Reddy",
      "photoUrl": "https://lh3.googleusercontent.com/a-/AOh14GiSL7-vyK3M9O2aew1rAxVHgD8h6RoC4uGUerXZL5s=s64",
      "userId": "04927215883267902569"
     },
     "user_tz": -330
    },
    "id": "oZfdskYFEFTQ",
    "outputId": "a8b47727-1652-4a1d-bdeb-1eeaeffdd7a3"
   },
   "outputs": [
    {
     "data": {
      "text/plain": [
       "(60000, 28, 28)"
      ]
     },
     "execution_count": 3,
     "metadata": {},
     "output_type": "execute_result"
    }
   ],
   "source": [
    "train_X.shape"
   ]
  },
  {
   "cell_type": "code",
   "execution_count": 4,
   "metadata": {
    "colab": {
     "base_uri": "https://localhost:8080/"
    },
    "executionInfo": {
     "elapsed": 5745,
     "status": "ok",
     "timestamp": 1620492223121,
     "user": {
      "displayName": "Gaurav Reddy",
      "photoUrl": "https://lh3.googleusercontent.com/a-/AOh14GiSL7-vyK3M9O2aew1rAxVHgD8h6RoC4uGUerXZL5s=s64",
      "userId": "04927215883267902569"
     },
     "user_tz": -330
    },
    "id": "KJh5IreWEjAV",
    "outputId": "c582e9eb-965a-4a9a-b4ed-effdd9be8911"
   },
   "outputs": [
    {
     "data": {
      "text/plain": [
       "(28, 28)"
      ]
     },
     "execution_count": 4,
     "metadata": {},
     "output_type": "execute_result"
    }
   ],
   "source": [
    "train_X[0].shape"
   ]
  },
  {
   "cell_type": "code",
   "execution_count": 5,
   "metadata": {
    "colab": {
     "base_uri": "https://localhost:8080/",
     "height": 280
    },
    "executionInfo": {
     "elapsed": 5729,
     "status": "ok",
     "timestamp": 1620492223121,
     "user": {
      "displayName": "Gaurav Reddy",
      "photoUrl": "https://lh3.googleusercontent.com/a-/AOh14GiSL7-vyK3M9O2aew1rAxVHgD8h6RoC4uGUerXZL5s=s64",
      "userId": "04927215883267902569"
     },
     "user_tz": -330
    },
    "id": "ig3-sDIyE1yN",
    "outputId": "bbe2ba66-1475-42f9-f903-4463c4448b1f"
   },
   "outputs": [
    {
     "data": {
      "text/plain": [
       "<matplotlib.image.AxesImage at 0x1397ab65d80>"
      ]
     },
     "execution_count": 5,
     "metadata": {},
     "output_type": "execute_result"
    },
    {
     "data": {
      "image/png": "[encoded data removed]",
      "text/plain": [
       "<Figure size 640x480 with 1 Axes>"
      ]
     },
     "metadata": {},
     "output_type": "display_data"
    }
   ],
   "source": [
    "plt.imshow(train_X[0])"
   ]
  },
  {
   "cell_type": "code",
   "execution_count": 6,
   "metadata": {
    "colab": {
     "base_uri": "https://localhost:8080/"
    },
    "executionInfo": {
     "elapsed": 5714,
     "status": "ok",
     "timestamp": 1620492223122,
     "user": {
      "displayName": "Gaurav Reddy",
      "photoUrl": "https://lh3.googleusercontent.com/a-/AOh14GiSL7-vyK3M9O2aew1rAxVHgD8h6RoC4uGUerXZL5s=s64",
      "userId": "04927215883267902569"
     },
     "user_tz": -330
    },
    "id": "218CRtQDFaLG",
    "outputId": "699bed99-e8c5-45b5-fe21-b58c4c041762"
   },
   "outputs": [
    {
     "data": {
      "text/plain": [
       "((60000,), np.uint8(9))"
      ]
     },
     "execution_count": 6,
     "metadata": {},
     "output_type": "execute_result"
    }
   ],
   "source": [
    "train_y.shape, train_y[0]"
   ]
  },
  {
   "cell_type": "code",
   "execution_count": 7,
   "metadata": {
    "colab": {
     "base_uri": "https://localhost:8080/"
    },
    "executionInfo": {
     "elapsed": 5698,
     "status": "ok",
     "timestamp": 1620492223122,
     "user": {
      "displayName": "Gaurav Reddy",
      "photoUrl": "https://lh3.googleusercontent.com/a-/AOh14GiSL7-vyK3M9O2aew1rAxVHgD8h6RoC4uGUerXZL5s=s64",
      "userId": "04927215883267902569"
     },
     "user_tz": -330
    },
    "id": "1Tn_nR8dFf0L",
    "outputId": "1c464812-a25c-49ea-a5fb-ecd8ebe3b215"
   },
   "outputs": [
    {
     "data": {
      "text/plain": [
       "(np.uint8(0), np.uint8(9))"
      ]
     },
     "execution_count": 7,
     "metadata": {},
     "output_type": "execute_result"
    }
   ],
   "source": [
    "train_y.min(), train_y.max()"
   ]
  },
  {
   "cell_type": "code",
   "execution_count": 8,
   "metadata": {
    "executionInfo": {
     "elapsed": 5691,
     "status": "ok",
     "timestamp": 1620492223123,
     "user": {
      "displayName": "Gaurav Reddy",
      "photoUrl": "https://lh3.googleusercontent.com/a-/AOh14GiSL7-vyK3M9O2aew1rAxVHgD8h6RoC4uGUerXZL5s=s64",
      "userId": "04927215883267902569"
     },
     "user_tz": -330
    },
    "id": "pm5ZVVIqFw7D"
   },
   "outputs": [],
   "source": [
    "class_names = [\"T-shirt/top\", \"Trouser\", \"Pullover\", \"Dress\", \"Coat\", \"Sandal\", \"Shirt\", \"Sneaker\", \"Bag\", \"Ankle boot\"]"
   ]
  },
  {
   "cell_type": "markdown",
   "metadata": {
    "id": "pRp3Inb6TB1h"
   },
   "source": [
    "## **Changes**\n",
    "* **Input Shape :** (28 x 28)\n",
    "\n",
    "* **Output Shape :** 10 (10 differesent classes)\n",
    "\n",
    "* **Loss function :** CatgoricalCrosstentropy() for OneHot Encoded else use sparse\n",
    "\n",
    "* **Output Layer Activation :** Softmax\n",
    "\n",
    "Also add a Input Flatten layer"
   ]
  },
  {
   "cell_type": "code",
   "execution_count": 9,
   "metadata": {
    "colab": {
     "base_uri": "https://localhost:8080/"
    },
    "executionInfo": {
     "elapsed": 43210,
     "status": "ok",
     "timestamp": 1620492260650,
     "user": {
      "displayName": "Gaurav Reddy",
      "photoUrl": "https://lh3.googleusercontent.com/a-/AOh14GiSL7-vyK3M9O2aew1rAxVHgD8h6RoC4uGUerXZL5s=s64",
      "userId": "04927215883267902569"
     },
     "user_tz": -330
    },
    "id": "1r7g26_aGrYC",
    "outputId": "099d9eda-5169-4ee6-a0a9-4a2b6d828bc5"
   },
   "outputs": [
    {
     "name": "stderr",
     "output_type": "stream",
     "text": [
      "c:\\Users\\jsudh\\AppData\\Local\\Programs\\Python\\Python310\\lib\\site-packages\\keras\\src\\layers\\reshaping\\flatten.py:37: UserWarning: Do not pass an `input_shape`/`input_dim` argument to a layer. When using Sequential models, prefer using an `Input(shape)` object as the first layer in the model instead.\n",
      "  super().__init__(**kwargs)\n"
     ]
    },
    {
     "name": "stdout",
     "output_type": "stream",
     "text": [
      "Epoch 1/10\n",
      "\u001b[1m1875/1875\u001b[0m \u001b[32m━━━━━━━━━━━━━━━━━━━━\u001b[0m\u001b[37m\u001b[0m \u001b[1m17s\u001b[0m 8ms/step - accuracy: 0.0989 - loss: 3.3532\n",
      "Epoch 2/10\n",
      "\u001b[1m1875/1875\u001b[0m \u001b[32m━━━━━━━━━━━━━━━━━━━━\u001b[0m\u001b[37m\u001b[0m \u001b[1m8s\u001b[0m 4ms/step - accuracy: 0.1271 - loss: 2.2496\n",
      "Epoch 3/10\n",
      "\u001b[1m1875/1875\u001b[0m \u001b[32m━━━━━━━━━━━━━━━━━━━━\u001b[0m\u001b[37m\u001b[0m \u001b[1m7s\u001b[0m 4ms/step - accuracy: 0.1631 - loss: 2.1234\n",
      "Epoch 4/10\n",
      "\u001b[1m1875/1875\u001b[0m \u001b[32m━━━━━━━━━━━━━━━━━━━━\u001b[0m\u001b[37m\u001b[0m \u001b[1m8s\u001b[0m 4ms/step - accuracy: 0.2025 - loss: 1.8733\n",
      "Epoch 5/10\n",
      "\u001b[1m1875/1875\u001b[0m \u001b[32m━━━━━━━━━━━━━━━━━━━━\u001b[0m\u001b[37m\u001b[0m \u001b[1m7s\u001b[0m 4ms/step - accuracy: 0.2239 - loss: 1.7345\n",
      "Epoch 6/10\n",
      "\u001b[1m1875/1875\u001b[0m \u001b[32m━━━━━━━━━━━━━━━━━━━━\u001b[0m\u001b[37m\u001b[0m \u001b[1m9s\u001b[0m 5ms/step - accuracy: 0.2426 - loss: 1.7022\n",
      "Epoch 7/10\n",
      "\u001b[1m1875/1875\u001b[0m \u001b[32m━━━━━━━━━━━━━━━━━━━━\u001b[0m\u001b[37m\u001b[0m \u001b[1m10s\u001b[0m 5ms/step - accuracy: 0.2521 - loss: 1.6805\n",
      "Epoch 8/10\n",
      "\u001b[1m1875/1875\u001b[0m \u001b[32m━━━━━━━━━━━━━━━━━━━━\u001b[0m\u001b[37m\u001b[0m \u001b[1m9s\u001b[0m 5ms/step - accuracy: 0.2700 - loss: 1.6683\n",
      "Epoch 9/10\n",
      "\u001b[1m1875/1875\u001b[0m \u001b[32m━━━━━━━━━━━━━━━━━━━━\u001b[0m\u001b[37m\u001b[0m \u001b[1m8s\u001b[0m 4ms/step - accuracy: 0.2762 - loss: 1.6593\n",
      "Epoch 10/10\n",
      "\u001b[1m1875/1875\u001b[0m \u001b[32m━━━━━━━━━━━━━━━━━━━━\u001b[0m\u001b[37m\u001b[0m \u001b[1m8s\u001b[0m 4ms/step - accuracy: 0.2873 - loss: 1.6492\n"
     ]
    }
   ],
   "source": [
    "tf.random.set_seed(42)\n",
    "\n",
    "model = tf.keras.Sequential([\n",
    "  tf.keras.layers.Flatten(input_shape=(28, 28)),\n",
    "  tf.keras.layers.Dense(4, activation='relu'),\n",
    "  tf.keras.layers.Dense(4, activation='relu'),\n",
    "  tf.keras.layers.Dense(10, activation='softmax'),\n",
    "])\n",
    "\n",
    "model.compile(loss=tf.keras.losses.SparseCategoricalCrossentropy(),\n",
    "              optimizer=tf.keras.optimizers.Adam(),\n",
    "              metrics=['accuracy'])\n",
    "\n",
    "history = model.fit(train_X, train_y, epochs = 10)\n",
    "\n"
   ]
  },
  {
   "cell_type": "code",
   "execution_count": 10,
   "metadata": {
    "executionInfo": {
     "elapsed": 43796,
     "status": "ok",
     "timestamp": 1620492261244,
     "user": {
      "displayName": "Gaurav Reddy",
      "photoUrl": "https://lh3.googleusercontent.com/a-/AOh14GiSL7-vyK3M9O2aew1rAxVHgD8h6RoC4uGUerXZL5s=s64",
      "userId": "04927215883267902569"
     },
     "user_tz": -330
    },
    "id": "qnUk3xqRUp52"
   },
   "outputs": [],
   "source": [
    "train_X = train_X / 255.0\n",
    "test_X = test_X / 255.0\n"
   ]
  },
  {
   "cell_type": "code",
   "execution_count": 11,
   "metadata": {
    "colab": {
     "base_uri": "https://localhost:8080/"
    },
    "executionInfo": {
     "elapsed": 78835,
     "status": "ok",
     "timestamp": 1620492296290,
     "user": {
      "displayName": "Gaurav Reddy",
      "photoUrl": "https://lh3.googleusercontent.com/a-/AOh14GiSL7-vyK3M9O2aew1rAxVHgD8h6RoC4uGUerXZL5s=s64",
      "userId": "04927215883267902569"
     },
     "user_tz": -330
    },
    "id": "1bM0hxXxZx5C",
    "outputId": "eb78f487-0b16-4ae7-894b-c06f769cb9aa"
   },
   "outputs": [
    {
     "name": "stdout",
     "output_type": "stream",
     "text": [
      "Epoch 1/10\n",
      "\u001b[1m1875/1875\u001b[0m \u001b[32m━━━━━━━━━━━━━━━━━━━━\u001b[0m\u001b[37m\u001b[0m \u001b[1m12s\u001b[0m 5ms/step - accuracy: 0.3142 - loss: 1.7642 - val_accuracy: 0.4646 - val_loss: 1.2660\n",
      "Epoch 2/10\n",
      "\u001b[1m1875/1875\u001b[0m \u001b[32m━━━━━━━━━━━━━━━━━━━━\u001b[0m\u001b[37m\u001b[0m \u001b[1m9s\u001b[0m 5ms/step - accuracy: 0.4810 - loss: 1.2161 - val_accuracy: 0.5318 - val_loss: 1.1215\n",
      "Epoch 3/10\n",
      "\u001b[1m1875/1875\u001b[0m \u001b[32m━━━━━━━━━━━━━━━━━━━━\u001b[0m\u001b[37m\u001b[0m \u001b[1m9s\u001b[0m 5ms/step - accuracy: 0.5565 - loss: 1.0734 - val_accuracy: 0.5724 - val_loss: 1.0011\n",
      "Epoch 4/10\n",
      "\u001b[1m1875/1875\u001b[0m \u001b[32m━━━━━━━━━━━━━━━━━━━━\u001b[0m\u001b[37m\u001b[0m \u001b[1m10s\u001b[0m 5ms/step - accuracy: 0.5790 - loss: 0.9858 - val_accuracy: 0.6030 - val_loss: 0.9355\n",
      "Epoch 5/10\n",
      "\u001b[1m1875/1875\u001b[0m \u001b[32m━━━━━━━━━━━━━━━━━━━━\u001b[0m\u001b[37m\u001b[0m \u001b[1m8s\u001b[0m 4ms/step - accuracy: 0.6190 - loss: 0.9060 - val_accuracy: 0.6395 - val_loss: 0.8701\n",
      "Epoch 6/10\n",
      "\u001b[1m1875/1875\u001b[0m \u001b[32m━━━━━━━━━━━━━━━━━━━━\u001b[0m\u001b[37m\u001b[0m \u001b[1m9s\u001b[0m 5ms/step - accuracy: 0.6648 - loss: 0.8333 - val_accuracy: 0.7086 - val_loss: 0.7833\n",
      "Epoch 7/10\n",
      "\u001b[1m1875/1875\u001b[0m \u001b[32m━━━━━━━━━━━━━━━━━━━━\u001b[0m\u001b[37m\u001b[0m \u001b[1m9s\u001b[0m 5ms/step - accuracy: 0.7259 - loss: 0.7579 - val_accuracy: 0.7467 - val_loss: 0.7226\n",
      "Epoch 8/10\n",
      "\u001b[1m1875/1875\u001b[0m \u001b[32m━━━━━━━━━━━━━━━━━━━━\u001b[0m\u001b[37m\u001b[0m \u001b[1m10s\u001b[0m 5ms/step - accuracy: 0.7524 - loss: 0.6999 - val_accuracy: 0.7577 - val_loss: 0.6858\n",
      "Epoch 9/10\n",
      "\u001b[1m1875/1875\u001b[0m \u001b[32m━━━━━━━━━━━━━━━━━━━━\u001b[0m\u001b[37m\u001b[0m \u001b[1m9s\u001b[0m 5ms/step - accuracy: 0.7641 - loss: 0.6690 - val_accuracy: 0.7638 - val_loss: 0.6727\n",
      "Epoch 10/10\n",
      "\u001b[1m1875/1875\u001b[0m \u001b[32m━━━━━━━━━━━━━━━━━━━━\u001b[0m\u001b[37m\u001b[0m \u001b[1m10s\u001b[0m 5ms/step - accuracy: 0.7722 - loss: 0.6502 - val_accuracy: 0.7684 - val_loss: 0.6599\n"
     ]
    }
   ],
   "source": [
    "# Set random seed\n",
    "tf.random.set_seed(42)\n",
    "\n",
    "# Create the model\n",
    "model = tf.keras.Sequential([\n",
    "  tf.keras.layers.Flatten(input_shape=(28, 28)), # input layer (we had to reshape 28x28 to 784)\n",
    "  tf.keras.layers.Dense(4, activation=\"relu\"),\n",
    "  tf.keras.layers.Dense(4, activation=\"relu\"),\n",
    "  tf.keras.layers.Dense(10, activation=\"softmax\") # output shape is 10, activation is softmax\n",
    "])\n",
    "\n",
    "# Compile the model\n",
    "model.compile(loss=tf.keras.losses.SparseCategoricalCrossentropy(),\n",
    "                 optimizer=tf.keras.optimizers.Adam(),\n",
    "                 metrics=[\"accuracy\"])\n",
    "\n",
    "# Fit the model (to the normalized data)\n",
    "norm_history = model.fit(train_X,\n",
    "                         train_y,\n",
    "                         epochs=10,\n",
    "                         validation_data=(test_X, test_y))"
   ]
  },
  {
   "cell_type": "code",
   "execution_count": 12,
   "metadata": {
    "colab": {
     "base_uri": "https://localhost:8080/",
     "height": 543
    },
    "executionInfo": {
     "elapsed": 1196,
     "status": "ok",
     "timestamp": 1620492308214,
     "user": {
      "displayName": "Gaurav Reddy",
      "photoUrl": "https://lh3.googleusercontent.com/a-/AOh14GiSL7-vyK3M9O2aew1rAxVHgD8h6RoC4uGUerXZL5s=s64",
      "userId": "04927215883267902569"
     },
     "user_tz": -330
    },
    "id": "qP7gGD5rpNF8",
    "outputId": "a8464fd2-7e03-4384-c07b-8a6a87023098"
   },
   "outputs": [
    {
     "data": {
      "text/plain": [
       "<Axes: title={'center': 'Normalized Data'}>"
      ]
     },
     "execution_count": 12,
     "metadata": {},
     "output_type": "execute_result"
    },
    {
     "data": {
      "image/png": "[encoded data removed]",
      "text/plain": [
       "<Figure size 640x480 with 1 Axes>"
      ]
     },
     "metadata": {},
     "output_type": "display_data"
    },
    {
     "data": {
      "image/png": "[encoded data removed]",
      "text/plain": [
       "<Figure size 640x480 with 1 Axes>"
      ]
     },
     "metadata": {},
     "output_type": "display_data"
    }
   ],
   "source": [
    "pd.DataFrame(history.history).plot(title=\"Non=Normalized Data\")\n",
    "pd.DataFrame(norm_history.history).plot(title=\"Normalized Data\")"
   ]
  },
  {
   "cell_type": "code",
   "execution_count": 13,
   "metadata": {
    "colab": {
     "base_uri": "https://localhost:8080/"
    },
    "executionInfo": {
     "elapsed": 140339,
     "status": "ok",
     "timestamp": 1620492589254,
     "user": {
      "displayName": "Gaurav Reddy",
      "photoUrl": "https://lh3.googleusercontent.com/a-/AOh14GiSL7-vyK3M9O2aew1rAxVHgD8h6RoC4uGUerXZL5s=s64",
      "userId": "04927215883267902569"
     },
     "user_tz": -330
    },
    "id": "7Zuvwql5p9W9",
    "outputId": "99a7ecb4-0a43-4730-85dc-ee8567aaa304"
   },
   "outputs": [
    {
     "name": "stderr",
     "output_type": "stream",
     "text": [
      "c:\\Users\\jsudh\\AppData\\Local\\Programs\\Python\\Python310\\lib\\site-packages\\keras\\src\\layers\\reshaping\\flatten.py:37: UserWarning: Do not pass an `input_shape`/`input_dim` argument to a layer. When using Sequential models, prefer using an `Input(shape)` object as the first layer in the model instead.\n",
      "  super().__init__(**kwargs)\n"
     ]
    },
    {
     "name": "stdout",
     "output_type": "stream",
     "text": [
      "Epoch 1/40\n",
      "\u001b[1m1875/1875\u001b[0m \u001b[32m━━━━━━━━━━━━━━━━━━━━\u001b[0m\u001b[37m\u001b[0m \u001b[1m12s\u001b[0m 5ms/step - accuracy: 0.4213 - loss: 1.6448 - val_accuracy: 0.7325 - val_loss: 0.8253 - learning_rate: 0.0010\n",
      "Epoch 2/40\n",
      "\u001b[1m1875/1875\u001b[0m \u001b[32m━━━━━━━━━━━━━━━━━━━━\u001b[0m\u001b[37m\u001b[0m \u001b[1m9s\u001b[0m 5ms/step - accuracy: 0.7374 - loss: 0.7822 - val_accuracy: 0.7610 - val_loss: 0.7157 - learning_rate: 0.0011\n",
      "Epoch 3/40\n",
      "\u001b[1m1875/1875\u001b[0m \u001b[32m━━━━━━━━━━━━━━━━━━━━\u001b[0m\u001b[37m\u001b[0m \u001b[1m9s\u001b[0m 5ms/step - accuracy: 0.7605 - loss: 0.7031 - val_accuracy: 0.7749 - val_loss: 0.6709 - learning_rate: 0.0013\n",
      "Epoch 4/40\n",
      "\u001b[1m1875/1875\u001b[0m \u001b[32m━━━━━━━━━━━━━━━━━━━━\u001b[0m\u001b[37m\u001b[0m \u001b[1m8s\u001b[0m 4ms/step - accuracy: 0.7740 - loss: 0.6635 - val_accuracy: 0.7815 - val_loss: 0.6454 - learning_rate: 0.0014\n",
      "Epoch 5/40\n",
      "\u001b[1m1875/1875\u001b[0m \u001b[32m━━━━━━━━━━━━━━━━━━━━\u001b[0m\u001b[37m\u001b[0m \u001b[1m9s\u001b[0m 5ms/step - accuracy: 0.7804 - loss: 0.6389 - val_accuracy: 0.7849 - val_loss: 0.6290 - learning_rate: 0.0016\n",
      "Epoch 6/40\n",
      "\u001b[1m1875/1875\u001b[0m \u001b[32m━━━━━━━━━━━━━━━━━━━━\u001b[0m\u001b[37m\u001b[0m \u001b[1m9s\u001b[0m 5ms/step - accuracy: 0.7864 - loss: 0.6227 - val_accuracy: 0.7879 - val_loss: 0.6175 - learning_rate: 0.0018\n",
      "Epoch 7/40\n",
      "\u001b[1m1875/1875\u001b[0m \u001b[32m━━━━━━━━━━━━━━━━━━━━\u001b[0m\u001b[37m\u001b[0m \u001b[1m8s\u001b[0m 4ms/step - accuracy: 0.7899 - loss: 0.6101 - val_accuracy: 0.7899 - val_loss: 0.6089 - learning_rate: 0.0020\n",
      "Epoch 8/40\n",
      "\u001b[1m1875/1875\u001b[0m \u001b[32m━━━━━━━━━━━━━━━━━━━━\u001b[0m\u001b[37m\u001b[0m \u001b[1m8s\u001b[0m 4ms/step - accuracy: 0.7951 - loss: 0.5997 - val_accuracy: 0.7935 - val_loss: 0.6040 - learning_rate: 0.0022\n",
      "Epoch 9/40\n",
      "\u001b[1m1875/1875\u001b[0m \u001b[32m━━━━━━━━━━━━━━━━━━━━\u001b[0m\u001b[37m\u001b[0m \u001b[1m8s\u001b[0m 4ms/step - accuracy: 0.7975 - loss: 0.5928 - val_accuracy: 0.7943 - val_loss: 0.6060 - learning_rate: 0.0025\n",
      "Epoch 10/40\n",
      "\u001b[1m1875/1875\u001b[0m \u001b[32m━━━━━━━━━━━━━━━━━━━━\u001b[0m\u001b[37m\u001b[0m \u001b[1m11s\u001b[0m 5ms/step - accuracy: 0.7983 - loss: 0.5880 - val_accuracy: 0.7954 - val_loss: 0.6050 - learning_rate: 0.0028\n",
      "Epoch 11/40\n",
      "\u001b[1m1875/1875\u001b[0m \u001b[32m━━━━━━━━━━━━━━━━━━━━\u001b[0m\u001b[37m\u001b[0m \u001b[1m10s\u001b[0m 5ms/step - accuracy: 0.7984 - loss: 0.5849 - val_accuracy: 0.7962 - val_loss: 0.6053 - learning_rate: 0.0032\n",
      "Epoch 12/40\n",
      "\u001b[1m1875/1875\u001b[0m \u001b[32m━━━━━━━━━━━━━━━━━━━━\u001b[0m\u001b[37m\u001b[0m \u001b[1m11s\u001b[0m 6ms/step - accuracy: 0.8001 - loss: 0.5834 - val_accuracy: 0.7979 - val_loss: 0.6037 - learning_rate: 0.0035\n",
      "Epoch 13/40\n",
      "\u001b[1m1875/1875\u001b[0m \u001b[32m━━━━━━━━━━━━━━━━━━━━\u001b[0m\u001b[37m\u001b[0m \u001b[1m9s\u001b[0m 5ms/step - accuracy: 0.8001 - loss: 0.5830 - val_accuracy: 0.7945 - val_loss: 0.6156 - learning_rate: 0.0040\n",
      "Epoch 14/40\n",
      "\u001b[1m1875/1875\u001b[0m \u001b[32m━━━━━━━━━━━━━━━━━━━━\u001b[0m\u001b[37m\u001b[0m \u001b[1m8s\u001b[0m 4ms/step - accuracy: 0.7992 - loss: 0.5837 - val_accuracy: 0.7889 - val_loss: 0.6258 - learning_rate: 0.0045\n",
      "Epoch 15/40\n",
      "\u001b[1m1875/1875\u001b[0m \u001b[32m━━━━━━━━━━━━━━━━━━━━\u001b[0m\u001b[37m\u001b[0m \u001b[1m11s\u001b[0m 6ms/step - accuracy: 0.7994 - loss: 0.5838 - val_accuracy: 0.7889 - val_loss: 0.6239 - learning_rate: 0.0050\n",
      "Epoch 16/40\n",
      "\u001b[1m1875/1875\u001b[0m \u001b[32m━━━━━━━━━━━━━━━━━━━━\u001b[0m\u001b[37m\u001b[0m \u001b[1m11s\u001b[0m 6ms/step - accuracy: 0.7988 - loss: 0.5845 - val_accuracy: 0.7857 - val_loss: 0.6320 - learning_rate: 0.0056\n",
      "Epoch 17/40\n",
      "\u001b[1m1875/1875\u001b[0m \u001b[32m━━━━━━━━━━━━━━━━━━━━\u001b[0m\u001b[37m\u001b[0m \u001b[1m10s\u001b[0m 5ms/step - accuracy: 0.7977 - loss: 0.5866 - val_accuracy: 0.7787 - val_loss: 0.6440 - learning_rate: 0.0063\n",
      "Epoch 18/40\n",
      "\u001b[1m1875/1875\u001b[0m \u001b[32m━━━━━━━━━━━━━━━━━━━━\u001b[0m\u001b[37m\u001b[0m \u001b[1m9s\u001b[0m 5ms/step - accuracy: 0.7967 - loss: 0.5896 - val_accuracy: 0.7717 - val_loss: 0.6675 - learning_rate: 0.0071\n",
      "Epoch 19/40\n",
      "\u001b[1m1875/1875\u001b[0m \u001b[32m━━━━━━━━━━━━━━━━━━━━\u001b[0m\u001b[37m\u001b[0m \u001b[1m9s\u001b[0m 5ms/step - accuracy: 0.7942 - loss: 0.5932 - val_accuracy: 0.7692 - val_loss: 0.6816 - learning_rate: 0.0079\n",
      "Epoch 20/40\n",
      "\u001b[1m1875/1875\u001b[0m \u001b[32m━━━━━━━━━━━━━━━━━━━━\u001b[0m\u001b[37m\u001b[0m \u001b[1m10s\u001b[0m 5ms/step - accuracy: 0.7937 - loss: 0.5969 - val_accuracy: 0.7653 - val_loss: 0.6916 - learning_rate: 0.0089\n",
      "Epoch 21/40\n",
      "\u001b[1m1875/1875\u001b[0m \u001b[32m━━━━━━━━━━━━━━━━━━━━\u001b[0m\u001b[37m\u001b[0m \u001b[1m9s\u001b[0m 5ms/step - accuracy: 0.7924 - loss: 0.6005 - val_accuracy: 0.7685 - val_loss: 0.6834 - learning_rate: 0.0100\n",
      "Epoch 22/40\n",
      "\u001b[1m1875/1875\u001b[0m \u001b[32m━━━━━━━━━━━━━━━━━━━━\u001b[0m\u001b[37m\u001b[0m \u001b[1m9s\u001b[0m 5ms/step - accuracy: 0.7912 - loss: 0.6048 - val_accuracy: 0.7694 - val_loss: 0.6851 - learning_rate: 0.0112\n",
      "Epoch 23/40\n",
      "\u001b[1m1875/1875\u001b[0m \u001b[32m━━━━━━━━━━━━━━━━━━━━\u001b[0m\u001b[37m\u001b[0m \u001b[1m10s\u001b[0m 5ms/step - accuracy: 0.7905 - loss: 0.6089 - val_accuracy: 0.7717 - val_loss: 0.6740 - learning_rate: 0.0126\n",
      "Epoch 24/40\n",
      "\u001b[1m1875/1875\u001b[0m \u001b[32m━━━━━━━━━━━━━━━━━━━━\u001b[0m\u001b[37m\u001b[0m \u001b[1m10s\u001b[0m 5ms/step - accuracy: 0.7887 - loss: 0.6153 - val_accuracy: 0.7607 - val_loss: 0.7156 - learning_rate: 0.0141\n",
      "Epoch 25/40\n",
      "\u001b[1m1875/1875\u001b[0m \u001b[32m━━━━━━━━━━━━━━━━━━━━\u001b[0m\u001b[37m\u001b[0m \u001b[1m9s\u001b[0m 5ms/step - accuracy: 0.7838 - loss: 0.6288 - val_accuracy: 0.7708 - val_loss: 0.6643 - learning_rate: 0.0158\n",
      "Epoch 26/40\n",
      "\u001b[1m1875/1875\u001b[0m \u001b[32m━━━━━━━━━━━━━━━━━━━━\u001b[0m\u001b[37m\u001b[0m \u001b[1m9s\u001b[0m 5ms/step - accuracy: 0.7789 - loss: 0.6387 - val_accuracy: 0.7527 - val_loss: 0.7298 - learning_rate: 0.0178\n",
      "Epoch 27/40\n",
      "\u001b[1m1875/1875\u001b[0m \u001b[32m━━━━━━━━━━━━━━━━━━━━\u001b[0m\u001b[37m\u001b[0m \u001b[1m9s\u001b[0m 5ms/step - accuracy: 0.7753 - loss: 0.6506 - val_accuracy: 0.7488 - val_loss: 0.7425 - learning_rate: 0.0200\n",
      "Epoch 28/40\n",
      "\u001b[1m1875/1875\u001b[0m \u001b[32m━━━━━━━━━━━━━━━━━━━━\u001b[0m\u001b[37m\u001b[0m \u001b[1m9s\u001b[0m 5ms/step - accuracy: 0.7730 - loss: 0.6544 - val_accuracy: 0.7386 - val_loss: 0.7672 - learning_rate: 0.0224\n",
      "Epoch 29/40\n",
      "\u001b[1m1875/1875\u001b[0m \u001b[32m━━━━━━━━━━━━━━━━━━━━\u001b[0m\u001b[37m\u001b[0m \u001b[1m9s\u001b[0m 5ms/step - accuracy: 0.7595 - loss: 0.6786 - val_accuracy: 0.7539 - val_loss: 0.7206 - learning_rate: 0.0251\n",
      "Epoch 30/40\n",
      "\u001b[1m1875/1875\u001b[0m \u001b[32m━━━━━━━━━━━━━━━━━━━━\u001b[0m\u001b[37m\u001b[0m \u001b[1m9s\u001b[0m 5ms/step - accuracy: 0.7612 - loss: 0.6693 - val_accuracy: 0.7578 - val_loss: 0.6784 - learning_rate: 0.0282\n",
      "Epoch 31/40\n",
      "\u001b[1m1875/1875\u001b[0m \u001b[32m━━━━━━━━━━━━━━━━━━━━\u001b[0m\u001b[37m\u001b[0m \u001b[1m9s\u001b[0m 5ms/step - accuracy: 0.7513 - loss: 0.7029 - val_accuracy: 0.7393 - val_loss: 0.7149 - learning_rate: 0.0316\n",
      "Epoch 32/40\n",
      "\u001b[1m1875/1875\u001b[0m \u001b[32m━━━━━━━━━━━━━━━━━━━━\u001b[0m\u001b[37m\u001b[0m \u001b[1m10s\u001b[0m 5ms/step - accuracy: 0.7372 - loss: 0.7182 - val_accuracy: 0.7041 - val_loss: 0.7943 - learning_rate: 0.0355\n",
      "Epoch 33/40\n",
      "\u001b[1m1875/1875\u001b[0m \u001b[32m━━━━━━━━━━━━━━━━━━━━\u001b[0m\u001b[37m\u001b[0m \u001b[1m9s\u001b[0m 5ms/step - accuracy: 0.7277 - loss: 0.7527 - val_accuracy: 0.6943 - val_loss: 0.8423 - learning_rate: 0.0398\n",
      "Epoch 34/40\n",
      "\u001b[1m1875/1875\u001b[0m \u001b[32m━━━━━━━━━━━━━━━━━━━━\u001b[0m\u001b[37m\u001b[0m \u001b[1m9s\u001b[0m 5ms/step - accuracy: 0.7190 - loss: 0.8013 - val_accuracy: 0.7298 - val_loss: 0.7836 - learning_rate: 0.0447\n",
      "Epoch 35/40\n",
      "\u001b[1m1875/1875\u001b[0m \u001b[32m━━━━━━━━━━━━━━━━━━━━\u001b[0m\u001b[37m\u001b[0m \u001b[1m10s\u001b[0m 5ms/step - accuracy: 0.7116 - loss: 0.8139 - val_accuracy: 0.7008 - val_loss: 0.8266 - learning_rate: 0.0501\n",
      "Epoch 36/40\n",
      "\u001b[1m1875/1875\u001b[0m \u001b[32m━━━━━━━━━━━━━━━━━━━━\u001b[0m\u001b[37m\u001b[0m \u001b[1m10s\u001b[0m 5ms/step - accuracy: 0.6978 - loss: 0.8704 - val_accuracy: 0.7208 - val_loss: 0.9707 - learning_rate: 0.0562\n",
      "Epoch 37/40\n",
      "\u001b[1m1875/1875\u001b[0m \u001b[32m━━━━━━━━━━━━━━━━━━━━\u001b[0m\u001b[37m\u001b[0m \u001b[1m8s\u001b[0m 4ms/step - accuracy: 0.6180 - loss: 1.0317 - val_accuracy: 0.5154 - val_loss: 1.1624 - learning_rate: 0.0631\n",
      "Epoch 38/40\n",
      "\u001b[1m1875/1875\u001b[0m \u001b[32m━━━━━━━━━━━━━━━━━━━━\u001b[0m\u001b[37m\u001b[0m \u001b[1m10s\u001b[0m 5ms/step - accuracy: 0.4309 - loss: 1.3084 - val_accuracy: 0.4061 - val_loss: 1.3051 - learning_rate: 0.0708\n",
      "Epoch 39/40\n",
      "\u001b[1m1875/1875\u001b[0m \u001b[32m━━━━━━━━━━━━━━━━━━━━\u001b[0m\u001b[37m\u001b[0m \u001b[1m9s\u001b[0m 5ms/step - accuracy: 0.3938 - loss: 1.4105 - val_accuracy: 0.2842 - val_loss: 1.6279 - learning_rate: 0.0794\n",
      "Epoch 40/40\n",
      "\u001b[1m1875/1875\u001b[0m \u001b[32m━━━━━━━━━━━━━━━━━━━━\u001b[0m\u001b[37m\u001b[0m \u001b[1m9s\u001b[0m 5ms/step - accuracy: 0.2548 - loss: 1.7033 - val_accuracy: 0.2653 - val_loss: 1.6982 - learning_rate: 0.0891\n"
     ]
    }
   ],
   "source": [
    "# Set random seed\n",
    "tf.random.set_seed(42)\n",
    "\n",
    "# Create the model\n",
    "model_13 = tf.keras.Sequential([\n",
    "  tf.keras.layers.Flatten(input_shape=(28, 28)), # input layer (we had to reshape 28x28 to 784)\n",
    "  tf.keras.layers.Dense(4, activation=\"relu\"),\n",
    "  tf.keras.layers.Dense(4, activation=\"relu\"),\n",
    "  tf.keras.layers.Dense(10, activation=\"softmax\") # output shape is 10, activation is softmax\n",
    "])\n",
    "\n",
    "# Compile the model\n",
    "model_13.compile(loss=tf.keras.losses.SparseCategoricalCrossentropy(),\n",
    "                 optimizer=tf.keras.optimizers.Adam(),\n",
    "                 metrics=[\"accuracy\"])\n",
    "\n",
    "# Create the learning rate callback\n",
    "lr_scheduler = tf.keras.callbacks.LearningRateScheduler(lambda epoch: 1e-3 * 10**(epoch/20))\n",
    "\n",
    "# Fit the model\n",
    "find_lr_history = model_13.fit(train_X,\n",
    "                               train_y,\n",
    "                               epochs=40, # model already doing pretty good with current LR, probably don't need 100 epochs\n",
    "                               validation_data=(test_X, test_y),\n",
    "                               callbacks=[lr_scheduler])"
   ]
  },
  {
   "cell_type": "code",
   "execution_count": 18,
   "metadata": {
    "colab": {
     "base_uri": "https://localhost:8080/",
     "height": 297
    },
    "executionInfo": {
     "elapsed": 1228,
     "status": "ok",
     "timestamp": 1620493309282,
     "user": {
      "displayName": "Gaurav Reddy",
      "photoUrl": "https://lh3.googleusercontent.com/a-/AOh14GiSL7-vyK3M9O2aew1rAxVHgD8h6RoC4uGUerXZL5s=s64",
      "userId": "04927215883267902569"
     },
     "user_tz": -330
    },
    "id": "PUvZ4CRGp77M",
    "outputId": "ae867679-f325-4039-b46d-d90ffac4825f"
   },
   "outputs": [
    {
     "ename": "KeyError",
     "evalue": "'lr'",
     "output_type": "error",
     "traceback": [
      "\u001b[1;31m---------------------------------------------------------------------------\u001b[0m",
      "\u001b[1;31mKeyError\u001b[0m                                  Traceback (most recent call last)",
      "Cell \u001b[1;32mIn[18], line 1\u001b[0m\n\u001b[1;32m----> 1\u001b[0m plt\u001b[38;5;241m.\u001b[39msemilogx(\u001b[43mfind_lr_history\u001b[49m\u001b[38;5;241;43m.\u001b[39;49m\u001b[43mhistory\u001b[49m\u001b[43m[\u001b[49m\u001b[38;5;124;43m\"\u001b[39;49m\u001b[38;5;124;43mlr\u001b[39;49m\u001b[38;5;124;43m\"\u001b[39;49m\u001b[43m]\u001b[49m, find_lr_history\u001b[38;5;241m.\u001b[39mhistory[\u001b[38;5;124m\"\u001b[39m\u001b[38;5;124mloss\u001b[39m\u001b[38;5;124m\"\u001b[39m]) \u001b[38;5;66;03m# want the x-axis to be log-scale\u001b[39;00m\n\u001b[0;32m      3\u001b[0m plt\u001b[38;5;241m.\u001b[39mxlabel(\u001b[38;5;124m\"\u001b[39m\u001b[38;5;124mLearning rate\u001b[39m\u001b[38;5;124m\"\u001b[39m)\n\u001b[0;32m      4\u001b[0m plt\u001b[38;5;241m.\u001b[39mylabel(\u001b[38;5;124m\"\u001b[39m\u001b[38;5;124mLoss\u001b[39m\u001b[38;5;124m\"\u001b[39m)\n",
      "\u001b[1;31mKeyError\u001b[0m: 'lr'"
     ]
    }
   ],
   "source": [
    "plt.semilogx(find_lr_history.history[\"lr\"], find_lr_history.history[\"loss\"]) # want the x-axis to be log-scale\n",
    "\n",
    "plt.xlabel(\"Learning rate\")\n",
    "plt.ylabel(\"Loss\")\n",
    "plt.title(\"Finding the ideal learning rate\")"
   ]
  },
  {
   "cell_type": "code",
   "execution_count": null,
   "metadata": {
    "colab": {
     "base_uri": "https://localhost:8080/"
    },
    "executionInfo": {
     "elapsed": 1133,
     "status": "ok",
     "timestamp": 1620493864062,
     "user": {
      "displayName": "Gaurav Reddy",
      "photoUrl": "https://lh3.googleusercontent.com/a-/AOh14GiSL7-vyK3M9O2aew1rAxVHgD8h6RoC4uGUerXZL5s=s64",
      "userId": "04927215883267902569"
     },
     "user_tz": -330
    },
    "id": "7vOBP3s38J1D",
    "outputId": "3a793690-7d27-455c-de0d-9b0c832567df"
   },
   "outputs": [
    {
     "data": {
      "text/plain": [
       "array([9, 2, 1, ..., 3, 1, 5])"
      ]
     },
     "execution_count": 44,
     "metadata": {
      "tags": []
     },
     "output_type": "execute_result"
    }
   ],
   "source": [
    "y_preds = (model.predict(test_X))\n",
    "y_preds = y_preds.argmax(axis=1)\n",
    "y_preds"
   ]
  },
  {
   "cell_type": "code",
   "execution_count": null,
   "metadata": {
    "executionInfo": {
     "elapsed": 804,
     "status": "ok",
     "timestamp": 1620494065276,
     "user": {
      "displayName": "Gaurav Reddy",
      "photoUrl": "https://lh3.googleusercontent.com/a-/AOh14GiSL7-vyK3M9O2aew1rAxVHgD8h6RoC4uGUerXZL5s=s64",
      "userId": "04927215883267902569"
     },
     "user_tz": -330
    },
    "id": "CLgjjeY481OO"
   },
   "outputs": [],
   "source": [
    "from sklearn.metrics import confusion_matrix\n",
    "\n",
    "cm = confusion_matrix(test_y, y_preds)"
   ]
  },
  {
   "cell_type": "code",
   "execution_count": null,
   "metadata": {
    "colab": {
     "base_uri": "https://localhost:8080/",
     "height": 590
    },
    "executionInfo": {
     "elapsed": 1884,
     "status": "ok",
     "timestamp": 1620494301519,
     "user": {
      "displayName": "Gaurav Reddy",
      "photoUrl": "https://lh3.googleusercontent.com/a-/AOh14GiSL7-vyK3M9O2aew1rAxVHgD8h6RoC4uGUerXZL5s=s64",
      "userId": "04927215883267902569"
     },
     "user_tz": -330
    },
    "id": "PZXGQHlg9_mW",
    "outputId": "02cdaa47-a2f5-4eab-a1f5-6d24e3e1959e"
   },
   "outputs": [
    {
     "data": {
      "image/png": "[encoded data removed]",
      "text/plain": [
       "<Figure size 720x720 with 2 Axes>"
      ]
     },
     "metadata": {
      "needs_background": "light",
      "tags": []
     },
     "output_type": "display_data"
    }
   ],
   "source": [
    "import seaborn as sn\n",
    "plt.figure(figsize = (10, 10))\n",
    "sn.heatmap(cm, annot=cm, fmt=\"\", annot_kws={\"size\": 20}, cmap='Blues');\n"
   ]
  },
  {
   "cell_type": "code",
   "execution_count": null,
   "metadata": {
    "executionInfo": {
     "elapsed": 819,
     "status": "ok",
     "timestamp": 1620494869344,
     "user": {
      "displayName": "Gaurav Reddy",
      "photoUrl": "https://lh3.googleusercontent.com/a-/AOh14GiSL7-vyK3M9O2aew1rAxVHgD8h6RoC4uGUerXZL5s=s64",
      "userId": "04927215883267902569"
     },
     "user_tz": -330
    },
    "id": "6dRFr2iQ-Gpo"
   },
   "outputs": [],
   "source": [
    " import random\n",
    "\n",
    "# Create a function for plotting a random image along with its prediction\n",
    "def plot_random_image(model, images, true_labels, classes):\n",
    "  \"\"\"Picks a random image, plots it and labels it with a predicted and truth label.\n",
    "\n",
    "  Args:\n",
    "    model: a trained model (trained on data similar to what's in images).\n",
    "    images: a set of random images (in tensor form).\n",
    "    true_labels: array of ground truth labels for images.\n",
    "    classes: array of class names for images.\n",
    "  \n",
    "  Returns:\n",
    "    A plot of a random image from `images` with a predicted class label from `model`\n",
    "    as well as the truth class label from `true_labels`.\n",
    "  \"\"\" \n",
    "  # Setup random integer\n",
    "  i = random.randint(0, len(images))\n",
    "  \n",
    "  # Create predictions and targets\n",
    "  target_image = images[i]\n",
    "  pred_probs = model.predict(target_image.reshape(1, 28, 28)) # have to reshape to get into right size for model\n",
    "  pred_label = classes[pred_probs.argmax()]\n",
    "  true_label = classes[true_labels[i]]\n",
    "\n",
    "  # Plot the target image\n",
    "  plt.imshow(target_image, cmap=plt.cm.binary)\n",
    "\n",
    "  # Change the color of the titles depending on if the prediction is right or wrong\n",
    "  if pred_label == true_label:\n",
    "    color = \"green\"\n",
    "  else:\n",
    "    color = \"red\"\n",
    "\n",
    "  # Add xlabel information (prediction/true label)\n",
    "  plt.xlabel(\"Pred: {} {:2.0f}% (True: {})\".format(pred_label,\n",
    "                                                   100*tf.reduce_max(pred_probs),\n",
    "                                                   true_label),\n",
    "             color=color) # set the color to green or red"
   ]
  },
  {
   "cell_type": "code",
   "execution_count": null,
   "metadata": {
    "colab": {
     "base_uri": "https://localhost:8080/",
     "height": 277
    },
    "executionInfo": {
     "elapsed": 1306,
     "status": "ok",
     "timestamp": 1620495052643,
     "user": {
      "displayName": "Gaurav Reddy",
      "photoUrl": "https://lh3.googleusercontent.com/a-/AOh14GiSL7-vyK3M9O2aew1rAxVHgD8h6RoC4uGUerXZL5s=s64",
      "userId": "04927215883267902569"
     },
     "user_tz": -330
    },
    "id": "2zmTHfIABV_n",
    "outputId": "effc39b9-cbb0-403a-d7e7-3c10c77ed9d4"
   },
   "outputs": [
    {
     "data": {
      "image/png": "[encoded data removed]",
      "text/plain": [
       "<Figure size 432x288 with 1 Axes>"
      ]
     },
     "metadata": {
      "needs_background": "light",
      "tags": []
     },
     "output_type": "display_data"
    }
   ],
   "source": [
    "# Check out a random image as well as its prediction\n",
    "plot_random_image(model=model, \n",
    "                  images=test_X, \n",
    "                  true_labels=test_y, \n",
    "                  classes=class_names)"
   ]
  },
  {
   "cell_type": "code",
   "execution_count": null,
   "metadata": {
    "executionInfo": {
     "elapsed": 1030,
     "status": "ok",
     "timestamp": 1620495010094,
     "user": {
      "displayName": "Gaurav Reddy",
      "photoUrl": "https://lh3.googleusercontent.com/a-/AOh14GiSL7-vyK3M9O2aew1rAxVHgD8h6RoC4uGUerXZL5s=s64",
      "userId": "04927215883267902569"
     },
     "user_tz": -330
    },
    "id": "0Ppy5sx9Bbfw"
   },
   "outputs": [],
   "source": []
  }
 ],
 "metadata": {
  "accelerator": "GPU",
  "colab": {
   "authorship_tag": "ABX9TyMfdKIbaP+kxjn8GUCGomTj",
   "collapsed_sections": [],
   "name": "Multi-class_classification with_TensorFlow.ipynb",
   "provenance": []
  },
  "kernelspec": {
   "display_name": "Python 3",
   "name": "python3"
  },
  "language_info": {
   "codemirror_mode": {
    "name": "ipython",
    "version": 3
   },
   "file_extension": ".py",
   "mimetype": "text/x-python",
   "name": "python",
   "nbconvert_exporter": "python",
   "pygments_lexer": "ipython3",
   "version": "3.10.11"
  }
 },
 "nbformat": 4,
 "nbformat_minor": 0
}
